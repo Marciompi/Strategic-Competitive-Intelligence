{
 "cells": [
  {
   "cell_type": "markdown",
   "metadata": {},
   "source": [
    "# Data Preparation"
   ]
  },
  {
   "cell_type": "code",
   "execution_count": 1,
   "metadata": {},
   "outputs": [
    {
     "name": "stderr",
     "output_type": "stream",
     "text": [
      "C:\\Users\\Antonio\\Anaconda3\\lib\\site-packages\\fuzzywuzzy\\fuzz.py:11: UserWarning: Using slow pure-python SequenceMatcher. Install python-Levenshtein to remove this warning\n",
      "  warnings.warn('Using slow pure-python SequenceMatcher. Install python-Levenshtein to remove this warning')\n"
     ]
    }
   ],
   "source": [
    "import pandas as pd\n",
    "import matplotlib.pyplot as plt\n",
    "import os\n",
    "from fuzzywuzzy import fuzz \n",
    "from fuzzywuzzy import process "
   ]
  },
  {
   "cell_type": "code",
   "execution_count": 2,
   "metadata": {},
   "outputs": [],
   "source": [
    "current_path = os.getcwd()"
   ]
  },
  {
   "cell_type": "code",
   "execution_count": 3,
   "metadata": {},
   "outputs": [],
   "source": [
    "data_set = pd.read_csv(current_path + \"\\\\Dataset\\\\pre_dataset_rq2.csv\", low_memory=False) "
   ]
  },
  {
   "cell_type": "code",
   "execution_count": 4,
   "metadata": {},
   "outputs": [],
   "source": [
    "df = data_set.copy()"
   ]
  },
  {
   "cell_type": "code",
   "execution_count": 5,
   "metadata": {},
   "outputs": [
    {
     "data": {
      "text/plain": [
       "(384, 30)"
      ]
     },
     "execution_count": 5,
     "metadata": {},
     "output_type": "execute_result"
    }
   ],
   "source": [
    "data_set.shape"
   ]
  },
  {
   "cell_type": "code",
   "execution_count": 6,
   "metadata": {},
   "outputs": [
    {
     "data": {
      "text/html": [
       "<div>\n",
       "<style scoped>\n",
       "    .dataframe tbody tr th:only-of-type {\n",
       "        vertical-align: middle;\n",
       "    }\n",
       "\n",
       "    .dataframe tbody tr th {\n",
       "        vertical-align: top;\n",
       "    }\n",
       "\n",
       "    .dataframe thead th {\n",
       "        text-align: right;\n",
       "    }\n",
       "</style>\n",
       "<table border=\"1\" class=\"dataframe\">\n",
       "  <thead>\n",
       "    <tr style=\"text-align: right;\">\n",
       "      <th></th>\n",
       "      <th>#</th>\n",
       "      <th>Jurisdiction</th>\n",
       "      <th>Kind</th>\n",
       "      <th>Publication_Number</th>\n",
       "      <th>Lens_ID</th>\n",
       "      <th>Publication_Date</th>\n",
       "      <th>Publication_Year</th>\n",
       "      <th>Application_Number</th>\n",
       "      <th>Application_Date</th>\n",
       "      <th>Priority_Numbers</th>\n",
       "      <th>...</th>\n",
       "      <th>Extended_Family_Size</th>\n",
       "      <th>Sequence_Count</th>\n",
       "      <th>CPC_Classifications</th>\n",
       "      <th>IPCR_Classifications</th>\n",
       "      <th>US_Classifications</th>\n",
       "      <th>NPL_Citation_Count</th>\n",
       "      <th>NPL_Resolved_Citation_Count</th>\n",
       "      <th>NPL_Resolved_Lens_ID(s)</th>\n",
       "      <th>NPL_Resolved_External_Id(s)</th>\n",
       "      <th>NPL_Citations</th>\n",
       "    </tr>\n",
       "  </thead>\n",
       "  <tbody>\n",
       "    <tr>\n",
       "      <th>0</th>\n",
       "      <td>1</td>\n",
       "      <td>US</td>\n",
       "      <td>A1</td>\n",
       "      <td>US 2015/0068116 A1</td>\n",
       "      <td>193-193-445-785-000</td>\n",
       "      <td>2015-03-12</td>\n",
       "      <td>2015</td>\n",
       "      <td>US 201313987853 A</td>\n",
       "      <td>2013-09-09</td>\n",
       "      <td>US 201313987853 A 20130909</td>\n",
       "      <td>...</td>\n",
       "      <td>1</td>\n",
       "      <td>0</td>\n",
       "      <td>A01G13/0206</td>\n",
       "      <td>A01G17/04;;B62D49/00</td>\n",
       "      <td>47/44;;280/29;;800/298</td>\n",
       "      <td>0</td>\n",
       "      <td>0</td>\n",
       "      <td>NaN</td>\n",
       "      <td>NaN</td>\n",
       "      <td>NaN</td>\n",
       "    </tr>\n",
       "    <tr>\n",
       "      <th>1</th>\n",
       "      <td>4</td>\n",
       "      <td>WO</td>\n",
       "      <td>A1</td>\n",
       "      <td>WO 2016/187002 A1</td>\n",
       "      <td>046-633-029-572-58X</td>\n",
       "      <td>2016-11-24</td>\n",
       "      <td>2016</td>\n",
       "      <td>US 2016/0032331 W</td>\n",
       "      <td>2016-05-13</td>\n",
       "      <td>US 201562162430 P 20150515</td>\n",
       "      <td>...</td>\n",
       "      <td>10</td>\n",
       "      <td>0</td>\n",
       "      <td>NaN</td>\n",
       "      <td>A61B34/10;;A61B34/30;;A61B34/35;;B25J9/16</td>\n",
       "      <td>NaN</td>\n",
       "      <td>1</td>\n",
       "      <td>0</td>\n",
       "      <td>NaN</td>\n",
       "      <td>NaN</td>\n",
       "      <td>None</td>\n",
       "    </tr>\n",
       "    <tr>\n",
       "      <th>2</th>\n",
       "      <td>6</td>\n",
       "      <td>AU</td>\n",
       "      <td>A1</td>\n",
       "      <td>AU 2016/263106 A1</td>\n",
       "      <td>036-662-320-870-232</td>\n",
       "      <td>2017-12-14</td>\n",
       "      <td>2017</td>\n",
       "      <td>AU 2016/263106 A</td>\n",
       "      <td>2016-05-13</td>\n",
       "      <td>US 201562162430 P 20150515</td>\n",
       "      <td>...</td>\n",
       "      <td>10</td>\n",
       "      <td>0</td>\n",
       "      <td>NaN</td>\n",
       "      <td>A61B34/10;;A61B34/30;;A61B34/35;;B25J9/16</td>\n",
       "      <td>NaN</td>\n",
       "      <td>0</td>\n",
       "      <td>0</td>\n",
       "      <td>NaN</td>\n",
       "      <td>NaN</td>\n",
       "      <td>NaN</td>\n",
       "    </tr>\n",
       "  </tbody>\n",
       "</table>\n",
       "<p>3 rows × 30 columns</p>\n",
       "</div>"
      ],
      "text/plain": [
       "   # Jurisdiction Kind  Publication_Number              Lens_ID  \\\n",
       "0  1           US   A1  US 2015/0068116 A1  193-193-445-785-000   \n",
       "1  4           WO   A1   WO 2016/187002 A1  046-633-029-572-58X   \n",
       "2  6           AU   A1   AU 2016/263106 A1  036-662-320-870-232   \n",
       "\n",
       "  Publication_Date  Publication_Year Application_Number Application_Date  \\\n",
       "0       2015-03-12              2015  US 201313987853 A       2013-09-09   \n",
       "1       2016-11-24              2016  US 2016/0032331 W       2016-05-13   \n",
       "2       2017-12-14              2017   AU 2016/263106 A       2016-05-13   \n",
       "\n",
       "             Priority_Numbers      ...       Extended_Family_Size  \\\n",
       "0  US 201313987853 A 20130909      ...                          1   \n",
       "1  US 201562162430 P 20150515      ...                         10   \n",
       "2  US 201562162430 P 20150515      ...                         10   \n",
       "\n",
       "  Sequence_Count CPC_Classifications  \\\n",
       "0              0         A01G13/0206   \n",
       "1              0                 NaN   \n",
       "2              0                 NaN   \n",
       "\n",
       "                        IPCR_Classifications      US_Classifications  \\\n",
       "0                       A01G17/04;;B62D49/00  47/44;;280/29;;800/298   \n",
       "1  A61B34/10;;A61B34/30;;A61B34/35;;B25J9/16                     NaN   \n",
       "2  A61B34/10;;A61B34/30;;A61B34/35;;B25J9/16                     NaN   \n",
       "\n",
       "  NPL_Citation_Count NPL_Resolved_Citation_Count NPL_Resolved_Lens_ID(s)  \\\n",
       "0                  0                           0                     NaN   \n",
       "1                  1                           0                     NaN   \n",
       "2                  0                           0                     NaN   \n",
       "\n",
       "   NPL_Resolved_External_Id(s)  NPL_Citations  \n",
       "0                          NaN            NaN  \n",
       "1                          NaN           None  \n",
       "2                          NaN            NaN  \n",
       "\n",
       "[3 rows x 30 columns]"
      ]
     },
     "execution_count": 6,
     "metadata": {},
     "output_type": "execute_result"
    }
   ],
   "source": [
    "data_set.head(3)"
   ]
  },
  {
   "cell_type": "code",
   "execution_count": 7,
   "metadata": {},
   "outputs": [
    {
     "data": {
      "text/plain": [
       "#                                0\n",
       "Jurisdiction                     0\n",
       "Kind                             0\n",
       "Publication_Number               0\n",
       "Lens_ID                          0\n",
       "Publication_Date                 0\n",
       "Publication_Year                 0\n",
       "Application_Number               0\n",
       "Application_Date                 0\n",
       "Priority_Numbers                 0\n",
       "Earliest_Priority_Date           0\n",
       "Title                            0\n",
       "Applicants                       0\n",
       "Inventors                        0\n",
       "Owners_(US)                    261\n",
       "URL                              0\n",
       "Type                             0\n",
       "Has_Full_Text                    0\n",
       "Cited_by_Patent_Count            0\n",
       "Simple_Family_Size               0\n",
       "Extended_Family_Size             0\n",
       "Sequence_Count                   0\n",
       "CPC_Classifications            162\n",
       "IPCR_Classifications             1\n",
       "US_Classifications             282\n",
       "NPL_Citation_Count               0\n",
       "NPL_Resolved_Citation_Count      0\n",
       "NPL_Resolved_Lens_ID(s)        332\n",
       "NPL_Resolved_External_Id(s)    332\n",
       "NPL_Citations                  298\n",
       "dtype: int64"
      ]
     },
     "execution_count": 7,
     "metadata": {},
     "output_type": "execute_result"
    }
   ],
   "source": [
    "data_set.isnull().sum()"
   ]
  },
  {
   "cell_type": "code",
   "execution_count": 8,
   "metadata": {},
   "outputs": [],
   "source": [
    "data_set = data_set.dropna(subset=['IPCR_Classifications'])\n",
    "data_set = data_set.dropna(subset=['Applicants'])\n",
    "data_set = data_set.reset_index(drop=True)"
   ]
  },
  {
   "cell_type": "code",
   "execution_count": 9,
   "metadata": {},
   "outputs": [],
   "source": [
    "columns = ['#', 'Jurisdiction', 'Kind', 'Lens_ID',\n",
    "       'Publication_Date', 'Application_Number',\n",
    "       'Application_Date', 'Priority_Numbers', 'Earliest_Priority_Date',\n",
    "       'Title', 'Inventors', 'Owners_(US)', 'URL', 'Type',\n",
    "       'Has_Full_Text', 'Cited_by_Patent_Count', 'Simple_Family_Size',\n",
    "       'Extended_Family_Size', 'Sequence_Count', 'CPC_Classifications',\n",
    "       'US_Classifications', 'NPL_Citation_Count',\n",
    "       'NPL_Resolved_Citation_Count', 'NPL_Resolved_Lens_ID(s)',\n",
    "       'NPL_Resolved_External_Id(s)', 'NPL_Citations']"
   ]
  },
  {
   "cell_type": "code",
   "execution_count": 10,
   "metadata": {},
   "outputs": [],
   "source": [
    "data_set.drop(columns, axis=1, inplace=True)"
   ]
  },
  {
   "cell_type": "code",
   "execution_count": 11,
   "metadata": {},
   "outputs": [
    {
     "data": {
      "text/plain": [
       "(383, 4)"
      ]
     },
     "execution_count": 11,
     "metadata": {},
     "output_type": "execute_result"
    }
   ],
   "source": [
    "data_set.shape"
   ]
  },
  {
   "cell_type": "markdown",
   "metadata": {},
   "source": [
    "#### Preparation column fro applicants categorization"
   ]
  },
  {
   "cell_type": "code",
   "execution_count": 12,
   "metadata": {},
   "outputs": [],
   "source": [
    "for i in range(len(df)):\n",
    "    if df.loc[i, 'Applicants'] == df.loc[i, 'Inventors']:\n",
    "        df.at[i, 'Applicants'] = 'Inventors as applicant'"
   ]
  },
  {
   "cell_type": "code",
   "execution_count": 13,
   "metadata": {},
   "outputs": [],
   "source": [
    "choices = df.Applicants.unique()\n",
    "match = process.extract('UNIV', choices, limit=100, scorer=fuzz.token_sort_ratio)\n",
    "for m in match:\n",
    "    if m[1]>40:\n",
    "        df.Applicants.replace(m[0],'UNIVERSITY', inplace = True)"
   ]
  },
  {
   "cell_type": "code",
   "execution_count": 14,
   "metadata": {},
   "outputs": [],
   "source": [
    "for i in range(len(df)):\n",
    "    if df.loc[i, 'Applicants'] != 'UNIVERSITY' and df.loc[i, 'Applicants'] != 'Inventors as applicant':\n",
    "        df.at[i, 'Applicants'] = 'FIRMS'"
   ]
  },
  {
   "cell_type": "code",
   "execution_count": 15,
   "metadata": {},
   "outputs": [],
   "source": [
    "data_set[\"Cat_Applicants\"] = df.Applicants"
   ]
  },
  {
   "cell_type": "markdown",
   "metadata": {},
   "source": [
    "#### Fuzzy wuzzy on assignees"
   ]
  },
  {
   "cell_type": "code",
   "execution_count": 16,
   "metadata": {},
   "outputs": [],
   "source": [
    "choices = data_set.Applicants.unique()\n",
    "for app in list(data_set.Applicants.value_counts().index[:28]):\n",
    "    match = process.extract(app, choices, limit=100, scorer=fuzz.token_sort_ratio)\n",
    "    for m in match:\n",
    "        if m[1]>75:\n",
    "            data_set.Applicants.replace(m[0], app, inplace = True)"
   ]
  },
  {
   "cell_type": "code",
   "execution_count": 17,
   "metadata": {},
   "outputs": [],
   "source": [
    "data_set.to_csv(current_path+\"\\\\Dataset\\\\dataset_rq2.csv\", index=False)"
   ]
  }
 ],
 "metadata": {
  "kernelspec": {
   "display_name": "Python 3",
   "language": "python",
   "name": "python3"
  },
  "language_info": {
   "codemirror_mode": {
    "name": "ipython",
    "version": 3
   },
   "file_extension": ".py",
   "mimetype": "text/x-python",
   "name": "python",
   "nbconvert_exporter": "python",
   "pygments_lexer": "ipython3",
   "version": "3.7.1"
  }
 },
 "nbformat": 4,
 "nbformat_minor": 2
}
