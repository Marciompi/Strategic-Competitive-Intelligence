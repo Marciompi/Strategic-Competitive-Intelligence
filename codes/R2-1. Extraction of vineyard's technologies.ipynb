{
 "cells": [
  {
   "cell_type": "markdown",
   "metadata": {},
   "source": [
    "# Extraction of vineyard's technologies"
   ]
  },
  {
   "cell_type": "markdown",
   "metadata": {},
   "source": [
    "#### We extracted subclasses from patents obtained usign the keyword \"vineyard robot\" because they represent better Bakus technology"
   ]
  },
  {
   "cell_type": "code",
   "execution_count": 1,
   "metadata": {},
   "outputs": [],
   "source": [
    "import pandas as pd\n",
    "import os"
   ]
  },
  {
   "cell_type": "code",
   "execution_count": 2,
   "metadata": {},
   "outputs": [],
   "source": [
    "current_path = os.getcwd()"
   ]
  },
  {
   "cell_type": "code",
   "execution_count": 3,
   "metadata": {},
   "outputs": [],
   "source": [
    "data_set = pd.read_csv(current_path + \"\\\\Dataset\\\\vineyard_robot_patents.csv\", low_memory=False) "
   ]
  },
  {
   "cell_type": "code",
   "execution_count": 4,
   "metadata": {},
   "outputs": [],
   "source": [
    "data_set = data_set.dropna(subset=['IPCR_Classifications']).reset_index(drop=True)"
   ]
  },
  {
   "cell_type": "code",
   "execution_count": 5,
   "metadata": {},
   "outputs": [
    {
     "data": {
      "text/plain": [
       "(320, 30)"
      ]
     },
     "execution_count": 5,
     "metadata": {},
     "output_type": "execute_result"
    }
   ],
   "source": [
    "data_set.shape"
   ]
  },
  {
   "cell_type": "code",
   "execution_count": 6,
   "metadata": {},
   "outputs": [],
   "source": [
    "def assigne_class_subclass(Ipcr_class):\n",
    "    ipcr_values = Ipcr_class.split(';;')\n",
    "    class_values= []\n",
    "    subclass_values = []\n",
    "    for ipcr in ipcr_values:\n",
    "        class_values.append(ipcr[:3])\n",
    "        subclass_values.append(ipcr[:4])\n",
    "        \n",
    "    return max(class_values,key=class_values.count), max(subclass_values,key=subclass_values.count)"
   ]
  },
  {
   "cell_type": "code",
   "execution_count": 7,
   "metadata": {},
   "outputs": [],
   "source": [
    "data_set['Main_Class'] = \"\"\n",
    "data_set['Main_Subclass'] = \"\"\n",
    "for i in range(0,len(data_set)):\n",
    "    classe, sottoclasse = assigne_class_subclass(data_set.IPCR_Classifications[i])\n",
    "    data_set.loc[i,\"Main_Class\"] = classe\n",
    "    data_set.loc[i,\"Main_Subclass\"] = sottoclasse"
   ]
  },
  {
   "cell_type": "code",
   "execution_count": 8,
   "metadata": {},
   "outputs": [],
   "source": [
    "ipcr_codes = []\n",
    "for idx in range(len(data_set)):\n",
    "    aux_list = data_set.loc[idx,\"IPCR_Classifications\"].split(';;')\n",
    "    for ipc in aux_list:\n",
    "        ipcr_codes.append(ipc)\n",
    "ipcr_codes = list(set(ipcr_codes))        "
   ]
  },
  {
   "cell_type": "code",
   "execution_count": 9,
   "metadata": {},
   "outputs": [
    {
     "data": {
      "text/plain": [
       "474"
      ]
     },
     "execution_count": 9,
     "metadata": {},
     "output_type": "execute_result"
    }
   ],
   "source": [
    "len(ipcr_codes)"
   ]
  },
  {
   "cell_type": "code",
   "execution_count": 10,
   "metadata": {},
   "outputs": [],
   "source": [
    "ipcr_6_code = []\n",
    "for ipc in ipcr_codes:\n",
    "    ipcr_6_code.append(ipc.split('/')[0])\n",
    "ipcr_6_code = list(set(ipcr_6_code))"
   ]
  },
  {
   "cell_type": "code",
   "execution_count": 11,
   "metadata": {},
   "outputs": [
    {
     "data": {
      "text/plain": [
       "240"
      ]
     },
     "execution_count": 11,
     "metadata": {},
     "output_type": "execute_result"
    }
   ],
   "source": [
    "len(ipcr_6_code)"
   ]
  },
  {
   "cell_type": "code",
   "execution_count": 12,
   "metadata": {},
   "outputs": [],
   "source": [
    "ipcr_4_code = []\n",
    "for ipc in ipcr_codes:\n",
    "    ipcr_4_code.append(ipc[:4])\n",
    "ipcr_4_code = list(set(ipcr_4_code))    "
   ]
  },
  {
   "cell_type": "code",
   "execution_count": 13,
   "metadata": {},
   "outputs": [
    {
     "data": {
      "text/plain": [
       "94"
      ]
     },
     "execution_count": 13,
     "metadata": {},
     "output_type": "execute_result"
    }
   ],
   "source": [
    "len(ipcr_4_code)"
   ]
  },
  {
   "cell_type": "code",
   "execution_count": 14,
   "metadata": {},
   "outputs": [
    {
     "name": "stdout",
     "output_type": "stream",
     "text": [
      "['H03H', 'A01N', 'B60L', 'B05D', 'B23Q', 'C07F', 'G01J', 'G06F', 'B65D', 'F16K', 'A01P', 'B23P', 'A01M', 'C12Q', 'G21K', 'B26D', 'H05H', 'H05K', 'B02C', 'A61K', 'C25D', 'A61P', 'C07K', 'G05D', 'A47J', 'A01C', 'B64F', 'H04N', 'B32B', 'C12M', 'A23F', 'C07H', 'B82Y', 'H03K', 'C23F', 'B05B', 'G06G', 'B62D', 'E01C', 'G01S', 'G01R', 'C12P', 'F02G', 'B64C', 'C12N', 'C07C', 'H04B', 'C12C', 'B64D', 'B08B', 'A01H', 'A23N', 'H05B', 'A01B', 'H01J', 'H01L', 'G01N', 'G06Q', 'B27M', 'G01B', 'H04W', 'C07D', 'G07C', 'C02F', 'G06K', 'A61Q', 'G01C', 'A61N', 'B27H', 'G05B', 'F01K', 'G07F', 'A01G', 'C08F', 'F21V', 'G06N', 'A61M', 'G08G', 'F21S', 'A01D', 'B25J', 'A61B', 'H04L', 'C23C', 'A01K', 'B23C', 'A63F', 'G10L', 'C01B', 'C12G', 'G06T', 'H01T', 'B65G', 'B29C']\n"
     ]
    }
   ],
   "source": [
    "print(ipcr_4_code)"
   ]
  },
  {
   "cell_type": "markdown",
   "metadata": {},
   "source": [
    "#### Selection and manually clustering  qui abbiamo fatto cluster manuale e poi il codice che segue non serve... è nel file 3. "
   ]
  },
  {
   "cell_type": "code",
   "execution_count": 15,
   "metadata": {},
   "outputs": [],
   "source": [
    "selected_subclasses = ['A01C', 'A01B', 'B23C', 'A01D', 'B23Q', 'B26D', 'A01G', 'A23N', 'G06K', 'G06F', 'G01N', 'G06T', 'H04N', 'G06G', 'G01J', 'G08G', 'G01S', 'A61B', 'B05B', 'A01M', 'G05B', 'B05D', 'H04W', 'H04L', 'H04B', 'B64F', 'G01C', 'B64C', 'B64D', 'H05B', 'F21S', 'F21V', 'H01L', 'B60L', 'H05K', 'G01R']"
   ]
  }
 ],
 "metadata": {
  "kernelspec": {
   "display_name": "Python 3",
   "language": "python",
   "name": "python3"
  },
  "language_info": {
   "codemirror_mode": {
    "name": "ipython",
    "version": 3
   },
   "file_extension": ".py",
   "mimetype": "text/x-python",
   "name": "python",
   "nbconvert_exporter": "python",
   "pygments_lexer": "ipython3",
   "version": "3.7.1"
  }
 },
 "nbformat": 4,
 "nbformat_minor": 2
}
